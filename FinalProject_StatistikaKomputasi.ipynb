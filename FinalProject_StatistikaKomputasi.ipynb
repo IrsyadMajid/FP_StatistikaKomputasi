{
  "cells": [
    {
      "cell_type": "markdown",
      "metadata": {
        "id": "view-in-github",
        "colab_type": "text"
      },
      "source": [
        "<a href=\"https://colab.research.google.com/github/IrsyadMajid/FP_StatistikaKomputasi/blob/main/FinalProject_StatistikaKomputasi.ipynb\" target=\"_parent\"><img src=\"https://colab.research.google.com/assets/colab-badge.svg\" alt=\"Open In Colab\"/></a>"
      ]
    },
    {
      "cell_type": "code",
      "source": [
        "import pandas as pd\n",
        "import numpy as np\n",
        "import matplotlib.pyplot as plt\n",
        "import seaborn as sns\n",
        "from sklearn.model_selection import train_test_split, cross_val_score, GridSearchCV\n",
        "from sklearn.linear_model import LinearRegression, Ridge, Lasso\n",
        "from sklearn.metrics import mean_absolute_error, mean_squared_error, r2_score\n",
        "from sklearn.preprocessing import StandardScaler"
      ],
      "metadata": {
        "id": "vI9Mo9CCqgCr"
      },
      "execution_count": null,
      "outputs": []
    },
    {
      "cell_type": "code",
      "source": [
        "df = pd.read_csv('diamonds.csv')"
      ],
      "metadata": {
        "id": "uxoc4uPwqgm3"
      },
      "execution_count": null,
      "outputs": []
    },
    {
      "cell_type": "code",
      "source": [
        "df.info()\n",
        "df.describe()"
      ],
      "metadata": {
        "id": "ycT3dMswqiQk"
      },
      "execution_count": null,
      "outputs": []
    },
    {
      "cell_type": "code",
      "source": [
        "sns.histplot(df['price'], bins=30, kde=True)\n",
        "plt.title(\"Persebaran harga\")\n",
        "plt.xlabel(\"Harga\")\n",
        "plt.ylabel(\"Frekuensi\")\n",
        "plt.show()"
      ],
      "metadata": {
        "id": "2HQWLyj-qjz0"
      },
      "execution_count": null,
      "outputs": []
    },
    {
      "cell_type": "code",
      "source": [
        "features = ['carat', 'clarity', 'depth', 'table']\n",
        "X = df[features]\n",
        "Y = df['price']"
      ],
      "metadata": {
        "id": "ukRxXryAqnCp"
      },
      "execution_count": null,
      "outputs": []
    },
    {
      "cell_type": "code",
      "source": [
        "if 'clarity' in X.columns and X['clarity'].dtype == 'object':\n",
        "    X = pd.get_dummies(X, columns=['clarity'], drop_first=True)"
      ],
      "metadata": {
        "id": "e0PlIcE3qpIC"
      },
      "execution_count": null,
      "outputs": []
    },
    {
      "cell_type": "code",
      "source": [
        "scaler = StandardScaler()\n",
        "X_scaled = scaler.fit_transform(X)"
      ],
      "metadata": {
        "id": "JpSDcPvlqs1X"
      },
      "execution_count": null,
      "outputs": []
    },
    {
      "cell_type": "code",
      "source": [
        "X_train, X_test, Y_train, Y_test = train_test_split(X_scaled, Y, test_size=0.2, random_state=42)"
      ],
      "metadata": {
        "id": "33ZjIqzYqvHQ"
      },
      "execution_count": null,
      "outputs": []
    },
    {
      "cell_type": "code",
      "source": [
        "model_lr = LinearRegression()\n",
        "model_lr.fit(X_train, Y_train)\n",
        "Y_pred_lr = model_lr.predict(X_test)"
      ],
      "metadata": {
        "id": "gEabUaBEqxCZ"
      },
      "execution_count": null,
      "outputs": []
    },
    {
      "cell_type": "code",
      "source": [
        "print(\"Linear Regression:\")\n",
        "print(f\"MAE: {mean_absolute_error(Y_test, Y_pred_lr)}\")\n",
        "print(f\"MSE: {mean_squared_error(Y_test, Y_pred_lr)}\")\n",
        "print(f\"R-squared: {r2_score(Y_test, Y_pred_lr)}\")"
      ],
      "metadata": {
        "id": "-ot8TKiKqy8M"
      },
      "execution_count": null,
      "outputs": []
    },
    {
      "cell_type": "code",
      "source": [
        "ridge = Ridge()\n",
        "parameters = {'alpha': [0.1, 1, 10, 100, 1000]}\n",
        "grid_ridge = GridSearchCV(ridge, parameters, cv=5, scoring='neg_mean_squared_error')\n",
        "grid_ridge.fit(X_train, Y_train)"
      ],
      "metadata": {
        "id": "M96dSaadq1Rd"
      },
      "execution_count": null,
      "outputs": []
    },
    {
      "cell_type": "code",
      "source": [
        "best_ridge = grid_ridge.best_estimator_\n",
        "\n",
        "print(\"\\nRidge Regression (Best Parameters):\")\n",
        "print(f\"Alpha: {grid_ridge.best_params_['alpha']}\")\n",
        "Y_pred_ridge = best_ridge.predict(X_test)\n",
        "print(f\"MAE: {mean_absolute_error(Y_test, Y_pred_ridge)}\")\n",
        "print(f\"MSE: {mean_squared_error(Y_test, Y_pred_ridge)}\")\n",
        "print(f\"R-squared: {r2_score(Y_test, Y_pred_ridge)}\")"
      ],
      "metadata": {
        "id": "CCs3zCQnq3cd"
      },
      "execution_count": null,
      "outputs": []
    },
    {
      "cell_type": "code",
      "source": [
        "plt.figure(figsize=(10, 6))\n",
        "plt.scatter(Y_test, Y_pred_ridge, alpha=0.6, color=\"b\", label=\"Ridge Predictions\")\n",
        "plt.plot([Y.min(), Y.max()], [Y.min(), Y.max()], '--r', linewidth=2, label=\"Ideal Line\")\n",
        "plt.xlabel(\"Harga Asli\")\n",
        "plt.ylabel(\"Harga Prediksi\")\n",
        "plt.title(\"Ridge Regression: Prediksi vs Asli\")\n",
        "plt.legend()\n",
        "plt.show()"
      ],
      "metadata": {
        "id": "08WwA_Acq5mC"
      },
      "execution_count": null,
      "outputs": []
    }
  ],
  "metadata": {
    "colab": {
      "provenance": [],
      "authorship_tag": "ABX9TyPrs0NPNnZH9lnO5Pc1GXy7",
      "include_colab_link": true
    },
    "kernelspec": {
      "display_name": "Python 3",
      "name": "python3"
    },
    "language_info": {
      "name": "python"
    }
  },
  "nbformat": 4,
  "nbformat_minor": 0
}